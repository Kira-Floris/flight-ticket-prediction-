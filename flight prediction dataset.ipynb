{
 "cells": [
  {
   "cell_type": "markdown",
   "id": "3402720e",
   "metadata": {},
   "source": [
    "# importing libraries and datasets"
   ]
  },
  {
   "cell_type": "code",
   "execution_count": 2,
   "id": "546425b3",
   "metadata": {},
   "outputs": [],
   "source": [
    "# importing libraries\n",
    "import pandas as pd\n",
    "import matplotlib.pyplot as plt\n",
    "import numpy as np\n",
    "import seaborn as sns"
   ]
  },
  {
   "cell_type": "code",
   "execution_count": 3,
   "id": "dbc31db8",
   "metadata": {},
   "outputs": [
    {
     "data": {
      "text/html": [
       "<div>\n",
       "<style scoped>\n",
       "    .dataframe tbody tr th:only-of-type {\n",
       "        vertical-align: middle;\n",
       "    }\n",
       "\n",
       "    .dataframe tbody tr th {\n",
       "        vertical-align: top;\n",
       "    }\n",
       "\n",
       "    .dataframe thead th {\n",
       "        text-align: right;\n",
       "    }\n",
       "</style>\n",
       "<table border=\"1\" class=\"dataframe\">\n",
       "  <thead>\n",
       "    <tr style=\"text-align: right;\">\n",
       "      <th></th>\n",
       "      <th>Unnamed: 0</th>\n",
       "      <th>airline</th>\n",
       "      <th>flight</th>\n",
       "      <th>source_city</th>\n",
       "      <th>departure_time</th>\n",
       "      <th>stops</th>\n",
       "      <th>arrival_time</th>\n",
       "      <th>destination_city</th>\n",
       "      <th>class</th>\n",
       "      <th>duration</th>\n",
       "      <th>days_left</th>\n",
       "      <th>price</th>\n",
       "    </tr>\n",
       "  </thead>\n",
       "  <tbody>\n",
       "    <tr>\n",
       "      <th>0</th>\n",
       "      <td>0</td>\n",
       "      <td>SpiceJet</td>\n",
       "      <td>SG-8709</td>\n",
       "      <td>Delhi</td>\n",
       "      <td>Evening</td>\n",
       "      <td>zero</td>\n",
       "      <td>Night</td>\n",
       "      <td>Mumbai</td>\n",
       "      <td>Economy</td>\n",
       "      <td>2.17</td>\n",
       "      <td>1</td>\n",
       "      <td>5953</td>\n",
       "    </tr>\n",
       "    <tr>\n",
       "      <th>1</th>\n",
       "      <td>1</td>\n",
       "      <td>SpiceJet</td>\n",
       "      <td>SG-8157</td>\n",
       "      <td>Delhi</td>\n",
       "      <td>Early_Morning</td>\n",
       "      <td>zero</td>\n",
       "      <td>Morning</td>\n",
       "      <td>Mumbai</td>\n",
       "      <td>Economy</td>\n",
       "      <td>2.33</td>\n",
       "      <td>1</td>\n",
       "      <td>5953</td>\n",
       "    </tr>\n",
       "    <tr>\n",
       "      <th>2</th>\n",
       "      <td>2</td>\n",
       "      <td>AirAsia</td>\n",
       "      <td>I5-764</td>\n",
       "      <td>Delhi</td>\n",
       "      <td>Early_Morning</td>\n",
       "      <td>zero</td>\n",
       "      <td>Early_Morning</td>\n",
       "      <td>Mumbai</td>\n",
       "      <td>Economy</td>\n",
       "      <td>2.17</td>\n",
       "      <td>1</td>\n",
       "      <td>5956</td>\n",
       "    </tr>\n",
       "    <tr>\n",
       "      <th>3</th>\n",
       "      <td>3</td>\n",
       "      <td>Vistara</td>\n",
       "      <td>UK-995</td>\n",
       "      <td>Delhi</td>\n",
       "      <td>Morning</td>\n",
       "      <td>zero</td>\n",
       "      <td>Afternoon</td>\n",
       "      <td>Mumbai</td>\n",
       "      <td>Economy</td>\n",
       "      <td>2.25</td>\n",
       "      <td>1</td>\n",
       "      <td>5955</td>\n",
       "    </tr>\n",
       "    <tr>\n",
       "      <th>4</th>\n",
       "      <td>4</td>\n",
       "      <td>Vistara</td>\n",
       "      <td>UK-963</td>\n",
       "      <td>Delhi</td>\n",
       "      <td>Morning</td>\n",
       "      <td>zero</td>\n",
       "      <td>Morning</td>\n",
       "      <td>Mumbai</td>\n",
       "      <td>Economy</td>\n",
       "      <td>2.33</td>\n",
       "      <td>1</td>\n",
       "      <td>5955</td>\n",
       "    </tr>\n",
       "  </tbody>\n",
       "</table>\n",
       "</div>"
      ],
      "text/plain": [
       "   Unnamed: 0   airline   flight source_city departure_time stops  \\\n",
       "0           0  SpiceJet  SG-8709       Delhi        Evening  zero   \n",
       "1           1  SpiceJet  SG-8157       Delhi  Early_Morning  zero   \n",
       "2           2   AirAsia   I5-764       Delhi  Early_Morning  zero   \n",
       "3           3   Vistara   UK-995       Delhi        Morning  zero   \n",
       "4           4   Vistara   UK-963       Delhi        Morning  zero   \n",
       "\n",
       "    arrival_time destination_city    class  duration  days_left  price  \n",
       "0          Night           Mumbai  Economy      2.17          1   5953  \n",
       "1        Morning           Mumbai  Economy      2.33          1   5953  \n",
       "2  Early_Morning           Mumbai  Economy      2.17          1   5956  \n",
       "3      Afternoon           Mumbai  Economy      2.25          1   5955  \n",
       "4        Morning           Mumbai  Economy      2.33          1   5955  "
      ]
     },
     "execution_count": 3,
     "metadata": {},
     "output_type": "execute_result"
    }
   ],
   "source": [
    "dataset = pd.read_csv('./datasets/Clean_Dataset.csv')\n",
    "dataset.head()"
   ]
  },
  {
   "cell_type": "markdown",
   "id": "c60f2d6a",
   "metadata": {},
   "source": [
    "# Data cleaning"
   ]
  },
  {
   "cell_type": "code",
   "execution_count": 4,
   "id": "39deb96c",
   "metadata": {},
   "outputs": [
    {
     "data": {
      "text/plain": [
       "Index(['Unnamed: 0', 'airline', 'flight', 'source_city', 'departure_time',\n",
       "       'stops', 'arrival_time', 'destination_city', 'class', 'duration',\n",
       "       'days_left', 'price'],\n",
       "      dtype='object')"
      ]
     },
     "execution_count": 4,
     "metadata": {},
     "output_type": "execute_result"
    }
   ],
   "source": [
    "dataset.columns"
   ]
  },
  {
   "cell_type": "code",
   "execution_count": 5,
   "id": "c444c8d0",
   "metadata": {},
   "outputs": [
    {
     "data": {
      "text/plain": [
       "Unnamed: 0          0\n",
       "airline             0\n",
       "flight              0\n",
       "source_city         0\n",
       "departure_time      0\n",
       "stops               0\n",
       "arrival_time        0\n",
       "destination_city    0\n",
       "class               0\n",
       "duration            0\n",
       "days_left           0\n",
       "price               0\n",
       "dtype: int64"
      ]
     },
     "execution_count": 5,
     "metadata": {},
     "output_type": "execute_result"
    }
   ],
   "source": [
    "# checking for null values\n",
    "dataset.isnull().sum()"
   ]
  },
  {
   "cell_type": "markdown",
   "id": "6f9df19c",
   "metadata": {},
   "source": [
    "# checking for correlation"
   ]
  },
  {
   "cell_type": "markdown",
   "id": "28be718d",
   "metadata": {},
   "source": [
    "#### some columns are in string format, it is best to encode them using labelencoder"
   ]
  },
  {
   "cell_type": "code",
   "execution_count": 6,
   "id": "cf1831b4",
   "metadata": {},
   "outputs": [
    {
     "data": {
      "text/html": [
       "<div>\n",
       "<style scoped>\n",
       "    .dataframe tbody tr th:only-of-type {\n",
       "        vertical-align: middle;\n",
       "    }\n",
       "\n",
       "    .dataframe tbody tr th {\n",
       "        vertical-align: top;\n",
       "    }\n",
       "\n",
       "    .dataframe thead th {\n",
       "        text-align: right;\n",
       "    }\n",
       "</style>\n",
       "<table border=\"1\" class=\"dataframe\">\n",
       "  <thead>\n",
       "    <tr style=\"text-align: right;\">\n",
       "      <th></th>\n",
       "      <th>Unnamed: 0</th>\n",
       "      <th>airline</th>\n",
       "      <th>flight</th>\n",
       "      <th>source_city</th>\n",
       "      <th>departure_time</th>\n",
       "      <th>stops</th>\n",
       "      <th>arrival_time</th>\n",
       "      <th>destination_city</th>\n",
       "      <th>class</th>\n",
       "      <th>duration</th>\n",
       "      <th>days_left</th>\n",
       "      <th>price</th>\n",
       "    </tr>\n",
       "  </thead>\n",
       "  <tbody>\n",
       "    <tr>\n",
       "      <th>0</th>\n",
       "      <td>0</td>\n",
       "      <td>4</td>\n",
       "      <td>1408</td>\n",
       "      <td>2</td>\n",
       "      <td>2</td>\n",
       "      <td>2</td>\n",
       "      <td>5</td>\n",
       "      <td>5</td>\n",
       "      <td>1</td>\n",
       "      <td>2.17</td>\n",
       "      <td>1</td>\n",
       "      <td>5953</td>\n",
       "    </tr>\n",
       "    <tr>\n",
       "      <th>1</th>\n",
       "      <td>1</td>\n",
       "      <td>4</td>\n",
       "      <td>1387</td>\n",
       "      <td>2</td>\n",
       "      <td>1</td>\n",
       "      <td>2</td>\n",
       "      <td>4</td>\n",
       "      <td>5</td>\n",
       "      <td>1</td>\n",
       "      <td>2.33</td>\n",
       "      <td>1</td>\n",
       "      <td>5953</td>\n",
       "    </tr>\n",
       "    <tr>\n",
       "      <th>2</th>\n",
       "      <td>2</td>\n",
       "      <td>0</td>\n",
       "      <td>1213</td>\n",
       "      <td>2</td>\n",
       "      <td>1</td>\n",
       "      <td>2</td>\n",
       "      <td>1</td>\n",
       "      <td>5</td>\n",
       "      <td>1</td>\n",
       "      <td>2.17</td>\n",
       "      <td>1</td>\n",
       "      <td>5956</td>\n",
       "    </tr>\n",
       "    <tr>\n",
       "      <th>3</th>\n",
       "      <td>3</td>\n",
       "      <td>5</td>\n",
       "      <td>1559</td>\n",
       "      <td>2</td>\n",
       "      <td>4</td>\n",
       "      <td>2</td>\n",
       "      <td>0</td>\n",
       "      <td>5</td>\n",
       "      <td>1</td>\n",
       "      <td>2.25</td>\n",
       "      <td>1</td>\n",
       "      <td>5955</td>\n",
       "    </tr>\n",
       "    <tr>\n",
       "      <th>4</th>\n",
       "      <td>4</td>\n",
       "      <td>5</td>\n",
       "      <td>1549</td>\n",
       "      <td>2</td>\n",
       "      <td>4</td>\n",
       "      <td>2</td>\n",
       "      <td>4</td>\n",
       "      <td>5</td>\n",
       "      <td>1</td>\n",
       "      <td>2.33</td>\n",
       "      <td>1</td>\n",
       "      <td>5955</td>\n",
       "    </tr>\n",
       "  </tbody>\n",
       "</table>\n",
       "</div>"
      ],
      "text/plain": [
       "   Unnamed: 0  airline  flight  source_city  departure_time  stops  \\\n",
       "0           0        4    1408            2               2      2   \n",
       "1           1        4    1387            2               1      2   \n",
       "2           2        0    1213            2               1      2   \n",
       "3           3        5    1559            2               4      2   \n",
       "4           4        5    1549            2               4      2   \n",
       "\n",
       "   arrival_time  destination_city  class  duration  days_left  price  \n",
       "0             5                 5      1      2.17          1   5953  \n",
       "1             4                 5      1      2.33          1   5953  \n",
       "2             1                 5      1      2.17          1   5956  \n",
       "3             0                 5      1      2.25          1   5955  \n",
       "4             4                 5      1      2.33          1   5955  "
      ]
     },
     "execution_count": 6,
     "metadata": {},
     "output_type": "execute_result"
    }
   ],
   "source": [
    "# label encoding all the string datatype columns\n",
    "from sklearn.preprocessing import LabelEncoder\n",
    "\n",
    "encoder = LabelEncoder()\n",
    "dataset_copy = dataset\n",
    "dataset_copy['airline'] = encoder.fit_transform(dataset_copy['airline'])\n",
    "dataset_copy['flight'] = encoder.fit_transform(dataset_copy['flight'])\n",
    "dataset_copy['source_city'] = encoder.fit_transform(dataset_copy['source_city'])\n",
    "dataset_copy['departure_time'] = encoder.fit_transform(dataset_copy['departure_time'])\n",
    "dataset_copy['stops'] = encoder.fit_transform(dataset_copy['stops'])\n",
    "dataset_copy['arrival_time'] = encoder.fit_transform(dataset_copy['arrival_time'])\n",
    "dataset_copy['destination_city'] = encoder.fit_transform(dataset_copy['destination_city'])\n",
    "dataset_copy['class'] = encoder.fit_transform(dataset_copy['class'])\n",
    "dataset_copy.head()"
   ]
  },
  {
   "cell_type": "code",
   "execution_count": 7,
   "id": "754782bb",
   "metadata": {},
   "outputs": [],
   "source": [
    "# saving a labelencoded version of the dataset\n",
    "dataset_copy.to_csv('./datasets/label_encoded_dataset.csv',index=False)"
   ]
  },
  {
   "cell_type": "code",
   "execution_count": 8,
   "id": "815dacf8",
   "metadata": {},
   "outputs": [
    {
     "data": {
      "text/plain": [
       "[Text(0.5, 0, 'Unnamed: 0'),\n",
       " Text(1.5, 0, 'airline'),\n",
       " Text(2.5, 0, 'flight'),\n",
       " Text(3.5, 0, 'source_city'),\n",
       " Text(4.5, 0, 'departure_time'),\n",
       " Text(5.5, 0, 'stops'),\n",
       " Text(6.5, 0, 'arrival_time'),\n",
       " Text(7.5, 0, 'destination_city'),\n",
       " Text(8.5, 0, 'class'),\n",
       " Text(9.5, 0, 'duration'),\n",
       " Text(10.5, 0, 'days_left'),\n",
       " Text(11.5, 0, 'price')]"
      ]
     },
     "execution_count": 8,
     "metadata": {},
     "output_type": "execute_result"
    },
    {
     "data": {
      "image/png": "[encoded data removed]",
      "text/plain": [
       "<Figure size 1296x576 with 2 Axes>"
      ]
     },
     "metadata": {
      "needs_background": "light"
     },
     "output_type": "display_data"
    }
   ],
   "source": [
    "fig = (18,8)\n",
    "plt.figure(figsize=fig)\n",
    "heatmap = sns.heatmap(dataset_copy.corr(method='pearson'), annot=True, fmt='.1g', vmin=-1, vmax=1, center=0, cmap='inferno', linewidths=1, linecolor='Black')\n",
    "heatmap.set_title('correlation heatmap between variables')\n",
    "heatmap.set_xticklabels(heatmap.get_xticklabels(), rotation=90)"
   ]
  },
  {
   "cell_type": "markdown",
   "id": "220c20f0",
   "metadata": {},
   "source": [
    "# data featuring and selection"
   ]
  },
  {
   "cell_type": "code",
   "execution_count": 10,
   "id": "eff1e6fa",
   "metadata": {},
   "outputs": [
    {
     "data": {
      "image/png": "[encoded data removed]",
      "text/plain": [
       "<Figure size 360x360 with 1 Axes>"
      ]
     },
     "metadata": {
      "needs_background": "light"
     },
     "output_type": "display_data"
    },
    {
     "data": {
      "image/png": "[encoded data removed]",
      "text/plain": [
       "<Figure size 360x360 with 1 Axes>"
      ]
     },
     "metadata": {
      "needs_background": "light"
     },
     "output_type": "display_data"
    },
    {
     "data": {
      "image/png": "[encoded data removed]",
      "text/plain": [
       "<Figure size 360x360 with 1 Axes>"
      ]
     },
     "metadata": {
      "needs_background": "light"
     },
     "output_type": "display_data"
    },
    {
     "data": {
      "image/png": "[encoded data removed]",
      "text/plain": [
       "<Figure size 360x360 with 1 Axes>"
      ]
     },
     "metadata": {
      "needs_background": "light"
     },
     "output_type": "display_data"
    },
    {
     "data": {
      "image/png": "[encoded data removed]",
      "text/plain": [
       "<Figure size 360x360 with 1 Axes>"
      ]
     },
     "metadata": {
      "needs_background": "light"
     },
     "output_type": "display_data"
    }
   ],
   "source": [
    "variables = ['duration','class','stops','flight','airline']\n",
    "for plot in variables:\n",
    "    sns.displot(dataset, x=plot).set(title=plot+\" distribution plot\")\n",
    "    plt.show()"
   ]
  },
  {
   "cell_type": "code",
   "execution_count": 11,
   "id": "c28fb252",
   "metadata": {},
   "outputs": [
    {
     "data": {
      "text/html": [
       "<div>\n",
       "<style scoped>\n",
       "    .dataframe tbody tr th:only-of-type {\n",
       "        vertical-align: middle;\n",
       "    }\n",
       "\n",
       "    .dataframe tbody tr th {\n",
       "        vertical-align: top;\n",
       "    }\n",
       "\n",
       "    .dataframe thead th {\n",
       "        text-align: right;\n",
       "    }\n",
       "</style>\n",
       "<table border=\"1\" class=\"dataframe\">\n",
       "  <thead>\n",
       "    <tr style=\"text-align: right;\">\n",
       "      <th></th>\n",
       "      <th>airline</th>\n",
       "      <th>flight</th>\n",
       "      <th>stops</th>\n",
       "      <th>class</th>\n",
       "      <th>duration</th>\n",
       "      <th>price</th>\n",
       "    </tr>\n",
       "  </thead>\n",
       "  <tbody>\n",
       "    <tr>\n",
       "      <th>0</th>\n",
       "      <td>4</td>\n",
       "      <td>1408</td>\n",
       "      <td>2</td>\n",
       "      <td>1</td>\n",
       "      <td>2.17</td>\n",
       "      <td>5953</td>\n",
       "    </tr>\n",
       "    <tr>\n",
       "      <th>1</th>\n",
       "      <td>4</td>\n",
       "      <td>1387</td>\n",
       "      <td>2</td>\n",
       "      <td>1</td>\n",
       "      <td>2.33</td>\n",
       "      <td>5953</td>\n",
       "    </tr>\n",
       "    <tr>\n",
       "      <th>2</th>\n",
       "      <td>0</td>\n",
       "      <td>1213</td>\n",
       "      <td>2</td>\n",
       "      <td>1</td>\n",
       "      <td>2.17</td>\n",
       "      <td>5956</td>\n",
       "    </tr>\n",
       "    <tr>\n",
       "      <th>3</th>\n",
       "      <td>5</td>\n",
       "      <td>1559</td>\n",
       "      <td>2</td>\n",
       "      <td>1</td>\n",
       "      <td>2.25</td>\n",
       "      <td>5955</td>\n",
       "    </tr>\n",
       "    <tr>\n",
       "      <th>4</th>\n",
       "      <td>5</td>\n",
       "      <td>1549</td>\n",
       "      <td>2</td>\n",
       "      <td>1</td>\n",
       "      <td>2.33</td>\n",
       "      <td>5955</td>\n",
       "    </tr>\n",
       "  </tbody>\n",
       "</table>\n",
       "</div>"
      ],
      "text/plain": [
       "   airline  flight  stops  class  duration  price\n",
       "0        4    1408      2      1      2.17   5953\n",
       "1        4    1387      2      1      2.33   5953\n",
       "2        0    1213      2      1      2.17   5956\n",
       "3        5    1559      2      1      2.25   5955\n",
       "4        5    1549      2      1      2.33   5955"
      ]
     },
     "execution_count": 11,
     "metadata": {},
     "output_type": "execute_result"
    }
   ],
   "source": [
    "# selecting columns that affect the price\n",
    "dataset_selected_features = dataset[['airline','flight','stops','class','duration','price']]\n",
    "dataset_selected_features.head()"
   ]
  },
  {
   "cell_type": "code",
   "execution_count": 12,
   "id": "7e908b6e",
   "metadata": {},
   "outputs": [],
   "source": [
    "# splitting into x and y variables\n",
    "cols = dataset_selected_features.shape[1]\n",
    "x = dataset_selected_features[['airline','flight','stops','class','duration']]\n",
    "y = dataset_selected_features['price']"
   ]
  },
  {
   "cell_type": "code",
   "execution_count": 13,
   "id": "cb7c55b8",
   "metadata": {},
   "outputs": [],
   "source": [
    "# splitting into testing and training\n",
    "from sklearn.model_selection import train_test_split\n",
    "\n",
    "xtrain, xtest, ytrain, ytest = train_test_split(x,y,test_size=0.2,random_state=0)"
   ]
  },
  {
   "cell_type": "markdown",
   "id": "15d5cd13",
   "metadata": {},
   "source": [
    "# creating a model for the flight ticket price prediction using "
   ]
  },
  {
   "cell_type": "code",
   "execution_count": 14,
   "id": "244ba11c",
   "metadata": {},
   "outputs": [],
   "source": [
    "# importing models\n",
    "from sklearn.linear_model import LinearRegression, LogisticRegression\n",
    "from sklearn.tree import DecisionTreeRegressor\n",
    "from sklearn.svm import SVR\n",
    "\n",
    "# importing metrics\n",
    "from sklearn.metrics import mean_squared_error, r2_score"
   ]
  },
  {
   "cell_type": "markdown",
   "id": "155c643f",
   "metadata": {},
   "source": [
    "### linear regression"
   ]
  },
  {
   "cell_type": "code",
   "execution_count": 15,
   "id": "5270951b",
   "metadata": {},
   "outputs": [
    {
     "name": "stdout",
     "output_type": "stream",
     "text": [
      "intercept 48048.28010507011\n",
      "coefficients [ 9.38650084e+02  2.05533389e-01 -3.16754828e+03 -4.45688691e+04\n",
      "  1.05705442e+02]\n",
      "evaluation on tests 0.8986374739952657\n",
      "evaluation on train 0.8979609139938076\n"
     ]
    }
   ],
   "source": [
    "model1 = LinearRegression()\n",
    "model1.fit(xtrain, ytrain)\n",
    "\n",
    "print(\"intercept\", model1.intercept_)\n",
    "print(\"coefficients\", model1.coef_)\n",
    "\n",
    "# predicting\n",
    "ypred1 = model1.predict(xtest)\n",
    "ypredtrain1 = model1.predict(xtrain)\n",
    "\n",
    "# evaluation of model\n",
    "print(\"evaluation on tests\",r2_score(ytest, ypred1))\n",
    "print(\"evaluation on train\",r2_score(ytrain, ypredtrain1))"
   ]
  },
  {
   "cell_type": "markdown",
   "id": "9f4b90f4",
   "metadata": {},
   "source": [
    "### decision tree regression"
   ]
  },
  {
   "cell_type": "code",
   "execution_count": 24,
   "id": "5aedd889",
   "metadata": {},
   "outputs": [
    {
     "name": "stdout",
     "output_type": "stream",
     "text": [
      "evaluation on test 0.9749088297146569\n",
      "evaluation on train 0.9785270668450166\n"
     ]
    }
   ],
   "source": [
    "model3 = DecisionTreeRegressor()\n",
    "model3.fit(xtrain, ytrain)\n",
    "\n",
    "# print(\"intercept\", model3.intercept_)\n",
    "# print(\"coefficients\", model3.coef_)\n",
    "\n",
    "# predicting\n",
    "ypred3 = model3.predict(xtest)\n",
    "ypredtrain3 = model3.predict(xtrain)\n",
    "\n",
    "# evaluation of model\n",
    "print(\"evaluation on test\",r2_score(ytest, ypred3))\n",
    "print(\"evaluation on train\",r2_score(ytrain, ypredtrain3))"
   ]
  },
  {
   "cell_type": "markdown",
   "id": "722cfaeb",
   "metadata": {},
   "source": [
    "### polynomial regression"
   ]
  },
  {
   "cell_type": "code",
   "execution_count": 22,
   "id": "34cdda4e",
   "metadata": {},
   "outputs": [
    {
     "name": "stdout",
     "output_type": "stream",
     "text": [
      "evaluation on test 0.9311049015677021\n",
      "evaluation on train 0.9327999583707157\n"
     ]
    }
   ],
   "source": [
    "from sklearn.preprocessing import PolynomialFeatures\n",
    "\n",
    "poly = PolynomialFeatures(degree=5)\n",
    "xtrainpoly = poly.fit_transform(xtrain)\n",
    "xtestpoly = poly.fit_transform(xtest)\n",
    "\n",
    "model4 = LinearRegression()\n",
    "model4.fit(xtrainpoly, ytrain)\n",
    "\n",
    "# predicting\n",
    "ypred4 = model4.predict(xtestpoly)\n",
    "ypredtrain4 = model4.predict(xtrainpoly)\n",
    "\n",
    "# evaluation of model\n",
    "print(\"evaluation on test\",r2_score(ytest, ypred4))\n",
    "print(\"evaluation on train\",r2_score(ytrain, ypredtrain4))"
   ]
  },
  {
   "cell_type": "code",
   "execution_count": 25,
   "id": "f9c7ab07",
   "metadata": {},
   "outputs": [
    {
     "data": {
      "text/html": [
       "<div>\n",
       "<style scoped>\n",
       "    .dataframe tbody tr th:only-of-type {\n",
       "        vertical-align: middle;\n",
       "    }\n",
       "\n",
       "    .dataframe tbody tr th {\n",
       "        vertical-align: top;\n",
       "    }\n",
       "\n",
       "    .dataframe thead th {\n",
       "        text-align: right;\n",
       "    }\n",
       "</style>\n",
       "<table border=\"1\" class=\"dataframe\">\n",
       "  <thead>\n",
       "    <tr style=\"text-align: right;\">\n",
       "      <th></th>\n",
       "      <th>predicted prices</th>\n",
       "      <th>actual prices</th>\n",
       "    </tr>\n",
       "  </thead>\n",
       "  <tbody>\n",
       "    <tr>\n",
       "      <th>44712</th>\n",
       "      <td>7695.718750</td>\n",
       "      <td>10721</td>\n",
       "    </tr>\n",
       "    <tr>\n",
       "      <th>233644</th>\n",
       "      <td>67751.500000</td>\n",
       "      <td>66928</td>\n",
       "    </tr>\n",
       "    <tr>\n",
       "      <th>121467</th>\n",
       "      <td>4337.181818</td>\n",
       "      <td>6909</td>\n",
       "    </tr>\n",
       "    <tr>\n",
       "      <th>185846</th>\n",
       "      <td>5472.843750</td>\n",
       "      <td>2271</td>\n",
       "    </tr>\n",
       "    <tr>\n",
       "      <th>163599</th>\n",
       "      <td>5500.000000</td>\n",
       "      <td>4363</td>\n",
       "    </tr>\n",
       "    <tr>\n",
       "      <th>...</th>\n",
       "      <td>...</td>\n",
       "      <td>...</td>\n",
       "    </tr>\n",
       "    <tr>\n",
       "      <th>169966</th>\n",
       "      <td>9315.741935</td>\n",
       "      <td>6461</td>\n",
       "    </tr>\n",
       "    <tr>\n",
       "      <th>270514</th>\n",
       "      <td>51757.013333</td>\n",
       "      <td>49207</td>\n",
       "    </tr>\n",
       "    <tr>\n",
       "      <th>122229</th>\n",
       "      <td>11210.750000</td>\n",
       "      <td>20291</td>\n",
       "    </tr>\n",
       "    <tr>\n",
       "      <th>72084</th>\n",
       "      <td>9827.323529</td>\n",
       "      <td>18281</td>\n",
       "    </tr>\n",
       "    <tr>\n",
       "      <th>122259</th>\n",
       "      <td>4731.187500</td>\n",
       "      <td>3999</td>\n",
       "    </tr>\n",
       "  </tbody>\n",
       "</table>\n",
       "<p>60031 rows × 2 columns</p>\n",
       "</div>"
      ],
      "text/plain": [
       "        predicted prices  actual prices\n",
       "44712        7695.718750          10721\n",
       "233644      67751.500000          66928\n",
       "121467       4337.181818           6909\n",
       "185846       5472.843750           2271\n",
       "163599       5500.000000           4363\n",
       "...                  ...            ...\n",
       "169966       9315.741935           6461\n",
       "270514      51757.013333          49207\n",
       "122229      11210.750000          20291\n",
       "72084        9827.323529          18281\n",
       "122259       4731.187500           3999\n",
       "\n",
       "[60031 rows x 2 columns]"
      ]
     },
     "execution_count": 25,
     "metadata": {},
     "output_type": "execute_result"
    }
   ],
   "source": [
    "results = pd.DataFrame({'predicted prices':ypred3,'actual prices':ytest})\n",
    "results"
   ]
  },
  {
   "cell_type": "markdown",
   "id": "128e8e3b",
   "metadata": {},
   "source": [
    "## the hightest performing model from the results is Decision Tree, it is the one we are going to save"
   ]
  },
  {
   "cell_type": "markdown",
   "id": "decde667",
   "metadata": {},
   "source": [
    "# Saving the model"
   ]
  },
  {
   "cell_type": "markdown",
   "id": "7a05129c",
   "metadata": {},
   "source": [
    "### saving in pickle format"
   ]
  },
  {
   "cell_type": "code",
   "execution_count": 29,
   "id": "e2f2ebee",
   "metadata": {},
   "outputs": [],
   "source": [
    "import pickle"
   ]
  },
  {
   "cell_type": "code",
   "execution_count": 30,
   "id": "43b4c152",
   "metadata": {},
   "outputs": [],
   "source": [
    "pickle.dump(model3, open('models/flight_ticket_price_model.pkl','wb'))"
   ]
  },
  {
   "cell_type": "markdown",
   "id": "a4dfc68c",
   "metadata": {},
   "source": [
    "### saving in sav joblib format"
   ]
  },
  {
   "cell_type": "code",
   "execution_count": 31,
   "id": "4b62bb8d",
   "metadata": {},
   "outputs": [],
   "source": [
    "import joblib"
   ]
  },
  {
   "cell_type": "code",
   "execution_count": 32,
   "id": "724cff91",
   "metadata": {},
   "outputs": [],
   "source": [
    "joblib.dump(model3, open('models/flight_ticket_price_model.sav','wb'))"
   ]
  }
 ],
 "metadata": {
  "kernelspec": {
   "display_name": "Python 3 (ipykernel)",
   "language": "python",
   "name": "python3"
  },
  "language_info": {
   "codemirror_mode": {
    "name": "ipython",
    "version": 3
   },
   "file_extension": ".py",
   "mimetype": "text/x-python",
   "name": "python",
   "nbconvert_exporter": "python",
   "pygments_lexer": "ipython3",
   "version": "3.8.12"
  }
 },
 "nbformat": 4,
 "nbformat_minor": 5
}
